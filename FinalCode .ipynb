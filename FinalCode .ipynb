{
 "cells": [
  {
   "cell_type": "markdown",
   "id": "7b7c0cf5",
   "metadata": {},
   "source": [
    "# Parkisons Telemonitoring"
   ]
  },
  {
   "cell_type": "markdown",
   "id": "8178725d",
   "metadata": {},
   "source": [
    "# Importing Libraries"
   ]
  },
  {
   "cell_type": "code",
   "execution_count": 1,
   "id": "86317a92",
   "metadata": {},
   "outputs": [],
   "source": [
    "import pandas as pd\n",
    "import scipy as sc\n",
    "import numpy as np\n",
    "import matplotlib.pyplot as plt\n",
    "from sklearn.preprocessing import MinMaxScaler"
   ]
  },
  {
   "cell_type": "code",
   "execution_count": 2,
   "id": "f3faf30d",
   "metadata": {},
   "outputs": [],
   "source": [
    "# to load the data to pandas dataframe from CSV file\n",
    "dff = pd.read_csv('Group 19_ Parkinsons Telemonitoring_Dataset.csv')"
   ]
  },
  {
   "cell_type": "code",
   "execution_count": 3,
   "id": "019683db",
   "metadata": {},
   "outputs": [
    {
     "data": {
      "text/html": [
       "<div>\n",
       "<style scoped>\n",
       "    .dataframe tbody tr th:only-of-type {\n",
       "        vertical-align: middle;\n",
       "    }\n",
       "\n",
       "    .dataframe tbody tr th {\n",
       "        vertical-align: top;\n",
       "    }\n",
       "\n",
       "    .dataframe thead th {\n",
       "        text-align: right;\n",
       "    }\n",
       "</style>\n",
       "<table border=\"1\" class=\"dataframe\">\n",
       "  <thead>\n",
       "    <tr style=\"text-align: right;\">\n",
       "      <th></th>\n",
       "      <th>subject#</th>\n",
       "      <th>age</th>\n",
       "      <th>sex</th>\n",
       "      <th>test_time</th>\n",
       "      <th>motor_UPDRS</th>\n",
       "      <th>total_UPDRS</th>\n",
       "      <th>Jitter(%)</th>\n",
       "      <th>Jitter(Abs)</th>\n",
       "      <th>Jitter:RAP</th>\n",
       "      <th>Jitter:PPQ5</th>\n",
       "      <th>...</th>\n",
       "      <th>Shimmer(dB)</th>\n",
       "      <th>Shimmer:APQ3</th>\n",
       "      <th>Shimmer:APQ5</th>\n",
       "      <th>Shimmer:APQ11</th>\n",
       "      <th>Shimmer:DDA</th>\n",
       "      <th>NHR</th>\n",
       "      <th>HNR</th>\n",
       "      <th>RPDE</th>\n",
       "      <th>DFA</th>\n",
       "      <th>PPE</th>\n",
       "    </tr>\n",
       "  </thead>\n",
       "  <tbody>\n",
       "    <tr>\n",
       "      <th>0</th>\n",
       "      <td>1</td>\n",
       "      <td>72</td>\n",
       "      <td>0</td>\n",
       "      <td>5.6431</td>\n",
       "      <td>28.199</td>\n",
       "      <td>34.398</td>\n",
       "      <td>0.00662</td>\n",
       "      <td>0.000034</td>\n",
       "      <td>0.00401</td>\n",
       "      <td>0.00317</td>\n",
       "      <td>...</td>\n",
       "      <td>0.230</td>\n",
       "      <td>0.01438</td>\n",
       "      <td>0.01309</td>\n",
       "      <td>0.01662</td>\n",
       "      <td>0.04314</td>\n",
       "      <td>0.014290</td>\n",
       "      <td>21.640</td>\n",
       "      <td>0.41888</td>\n",
       "      <td>0.54842</td>\n",
       "      <td>0.16006</td>\n",
       "    </tr>\n",
       "    <tr>\n",
       "      <th>1</th>\n",
       "      <td>1</td>\n",
       "      <td>72</td>\n",
       "      <td>0</td>\n",
       "      <td>12.6660</td>\n",
       "      <td>28.447</td>\n",
       "      <td>34.894</td>\n",
       "      <td>0.00300</td>\n",
       "      <td>0.000017</td>\n",
       "      <td>0.00132</td>\n",
       "      <td>0.00150</td>\n",
       "      <td>...</td>\n",
       "      <td>0.179</td>\n",
       "      <td>0.00994</td>\n",
       "      <td>0.01072</td>\n",
       "      <td>0.01689</td>\n",
       "      <td>0.02982</td>\n",
       "      <td>0.011112</td>\n",
       "      <td>27.183</td>\n",
       "      <td>0.43493</td>\n",
       "      <td>0.56477</td>\n",
       "      <td>0.10810</td>\n",
       "    </tr>\n",
       "    <tr>\n",
       "      <th>2</th>\n",
       "      <td>1</td>\n",
       "      <td>72</td>\n",
       "      <td>0</td>\n",
       "      <td>19.6810</td>\n",
       "      <td>28.695</td>\n",
       "      <td>35.389</td>\n",
       "      <td>0.00481</td>\n",
       "      <td>0.000025</td>\n",
       "      <td>0.00205</td>\n",
       "      <td>0.00208</td>\n",
       "      <td>...</td>\n",
       "      <td>0.181</td>\n",
       "      <td>0.00734</td>\n",
       "      <td>0.00844</td>\n",
       "      <td>0.01458</td>\n",
       "      <td>0.02202</td>\n",
       "      <td>0.020220</td>\n",
       "      <td>23.047</td>\n",
       "      <td>0.46222</td>\n",
       "      <td>0.54405</td>\n",
       "      <td>0.21014</td>\n",
       "    </tr>\n",
       "    <tr>\n",
       "      <th>3</th>\n",
       "      <td>1</td>\n",
       "      <td>72</td>\n",
       "      <td>0</td>\n",
       "      <td>25.6470</td>\n",
       "      <td>28.905</td>\n",
       "      <td>35.810</td>\n",
       "      <td>0.00528</td>\n",
       "      <td>0.000027</td>\n",
       "      <td>0.00191</td>\n",
       "      <td>0.00264</td>\n",
       "      <td>...</td>\n",
       "      <td>0.327</td>\n",
       "      <td>0.01106</td>\n",
       "      <td>0.01265</td>\n",
       "      <td>0.01963</td>\n",
       "      <td>0.03317</td>\n",
       "      <td>0.027837</td>\n",
       "      <td>24.445</td>\n",
       "      <td>0.48730</td>\n",
       "      <td>0.57794</td>\n",
       "      <td>0.33277</td>\n",
       "    </tr>\n",
       "    <tr>\n",
       "      <th>4</th>\n",
       "      <td>1</td>\n",
       "      <td>72</td>\n",
       "      <td>0</td>\n",
       "      <td>33.6420</td>\n",
       "      <td>29.187</td>\n",
       "      <td>36.375</td>\n",
       "      <td>0.00335</td>\n",
       "      <td>0.000020</td>\n",
       "      <td>0.00093</td>\n",
       "      <td>0.00130</td>\n",
       "      <td>...</td>\n",
       "      <td>0.176</td>\n",
       "      <td>0.00679</td>\n",
       "      <td>0.00929</td>\n",
       "      <td>0.01819</td>\n",
       "      <td>0.02036</td>\n",
       "      <td>0.011625</td>\n",
       "      <td>26.126</td>\n",
       "      <td>0.47188</td>\n",
       "      <td>0.56122</td>\n",
       "      <td>0.19361</td>\n",
       "    </tr>\n",
       "  </tbody>\n",
       "</table>\n",
       "<p>5 rows × 22 columns</p>\n",
       "</div>"
      ],
      "text/plain": [
       "   subject#  age  sex  test_time  motor_UPDRS  total_UPDRS  Jitter(%)  \\\n",
       "0         1   72    0     5.6431       28.199       34.398    0.00662   \n",
       "1         1   72    0    12.6660       28.447       34.894    0.00300   \n",
       "2         1   72    0    19.6810       28.695       35.389    0.00481   \n",
       "3         1   72    0    25.6470       28.905       35.810    0.00528   \n",
       "4         1   72    0    33.6420       29.187       36.375    0.00335   \n",
       "\n",
       "   Jitter(Abs)  Jitter:RAP  Jitter:PPQ5  ...  Shimmer(dB)  Shimmer:APQ3  \\\n",
       "0     0.000034     0.00401      0.00317  ...        0.230       0.01438   \n",
       "1     0.000017     0.00132      0.00150  ...        0.179       0.00994   \n",
       "2     0.000025     0.00205      0.00208  ...        0.181       0.00734   \n",
       "3     0.000027     0.00191      0.00264  ...        0.327       0.01106   \n",
       "4     0.000020     0.00093      0.00130  ...        0.176       0.00679   \n",
       "\n",
       "   Shimmer:APQ5  Shimmer:APQ11  Shimmer:DDA       NHR     HNR     RPDE  \\\n",
       "0       0.01309        0.01662      0.04314  0.014290  21.640  0.41888   \n",
       "1       0.01072        0.01689      0.02982  0.011112  27.183  0.43493   \n",
       "2       0.00844        0.01458      0.02202  0.020220  23.047  0.46222   \n",
       "3       0.01265        0.01963      0.03317  0.027837  24.445  0.48730   \n",
       "4       0.00929        0.01819      0.02036  0.011625  26.126  0.47188   \n",
       "\n",
       "       DFA      PPE  \n",
       "0  0.54842  0.16006  \n",
       "1  0.56477  0.10810  \n",
       "2  0.54405  0.21014  \n",
       "3  0.57794  0.33277  \n",
       "4  0.56122  0.19361  \n",
       "\n",
       "[5 rows x 22 columns]"
      ]
     },
     "execution_count": 3,
     "metadata": {},
     "output_type": "execute_result"
    }
   ],
   "source": [
    "# print first five rows of the data\n",
    "dff.head()"
   ]
  },
  {
   "cell_type": "code",
   "execution_count": 4,
   "id": "74db4eae",
   "metadata": {},
   "outputs": [
    {
     "data": {
      "text/html": [
       "<div>\n",
       "<style scoped>\n",
       "    .dataframe tbody tr th:only-of-type {\n",
       "        vertical-align: middle;\n",
       "    }\n",
       "\n",
       "    .dataframe tbody tr th {\n",
       "        vertical-align: top;\n",
       "    }\n",
       "\n",
       "    .dataframe thead th {\n",
       "        text-align: right;\n",
       "    }\n",
       "</style>\n",
       "<table border=\"1\" class=\"dataframe\">\n",
       "  <thead>\n",
       "    <tr style=\"text-align: right;\">\n",
       "      <th></th>\n",
       "      <th>subject#</th>\n",
       "      <th>age</th>\n",
       "      <th>sex</th>\n",
       "      <th>test_time</th>\n",
       "      <th>motor_UPDRS</th>\n",
       "      <th>total_UPDRS</th>\n",
       "      <th>Jitter(%)</th>\n",
       "      <th>Jitter(Abs)</th>\n",
       "      <th>Jitter:RAP</th>\n",
       "      <th>Jitter:PPQ5</th>\n",
       "      <th>...</th>\n",
       "      <th>Shimmer(dB)</th>\n",
       "      <th>Shimmer:APQ3</th>\n",
       "      <th>Shimmer:APQ5</th>\n",
       "      <th>Shimmer:APQ11</th>\n",
       "      <th>Shimmer:DDA</th>\n",
       "      <th>NHR</th>\n",
       "      <th>HNR</th>\n",
       "      <th>RPDE</th>\n",
       "      <th>DFA</th>\n",
       "      <th>PPE</th>\n",
       "    </tr>\n",
       "  </thead>\n",
       "  <tbody>\n",
       "    <tr>\n",
       "      <th>5870</th>\n",
       "      <td>42</td>\n",
       "      <td>61</td>\n",
       "      <td>0</td>\n",
       "      <td>142.79</td>\n",
       "      <td>22.485</td>\n",
       "      <td>33.485</td>\n",
       "      <td>0.00406</td>\n",
       "      <td>0.000031</td>\n",
       "      <td>0.00167</td>\n",
       "      <td>0.00168</td>\n",
       "      <td>...</td>\n",
       "      <td>0.160</td>\n",
       "      <td>0.00973</td>\n",
       "      <td>0.01133</td>\n",
       "      <td>0.01549</td>\n",
       "      <td>0.02920</td>\n",
       "      <td>0.025137</td>\n",
       "      <td>22.369</td>\n",
       "      <td>0.64215</td>\n",
       "      <td>0.55314</td>\n",
       "      <td>0.21367</td>\n",
       "    </tr>\n",
       "    <tr>\n",
       "      <th>5871</th>\n",
       "      <td>42</td>\n",
       "      <td>61</td>\n",
       "      <td>0</td>\n",
       "      <td>149.84</td>\n",
       "      <td>21.988</td>\n",
       "      <td>32.988</td>\n",
       "      <td>0.00297</td>\n",
       "      <td>0.000025</td>\n",
       "      <td>0.00119</td>\n",
       "      <td>0.00147</td>\n",
       "      <td>...</td>\n",
       "      <td>0.215</td>\n",
       "      <td>0.01052</td>\n",
       "      <td>0.01277</td>\n",
       "      <td>0.01904</td>\n",
       "      <td>0.03157</td>\n",
       "      <td>0.011927</td>\n",
       "      <td>22.886</td>\n",
       "      <td>0.52598</td>\n",
       "      <td>0.56518</td>\n",
       "      <td>0.12621</td>\n",
       "    </tr>\n",
       "    <tr>\n",
       "      <th>5872</th>\n",
       "      <td>42</td>\n",
       "      <td>61</td>\n",
       "      <td>0</td>\n",
       "      <td>156.82</td>\n",
       "      <td>21.495</td>\n",
       "      <td>32.495</td>\n",
       "      <td>0.00349</td>\n",
       "      <td>0.000025</td>\n",
       "      <td>0.00152</td>\n",
       "      <td>0.00187</td>\n",
       "      <td>...</td>\n",
       "      <td>0.244</td>\n",
       "      <td>0.01371</td>\n",
       "      <td>0.01456</td>\n",
       "      <td>0.01877</td>\n",
       "      <td>0.04112</td>\n",
       "      <td>0.017701</td>\n",
       "      <td>25.065</td>\n",
       "      <td>0.47792</td>\n",
       "      <td>0.57888</td>\n",
       "      <td>0.14157</td>\n",
       "    </tr>\n",
       "    <tr>\n",
       "      <th>5873</th>\n",
       "      <td>42</td>\n",
       "      <td>61</td>\n",
       "      <td>0</td>\n",
       "      <td>163.73</td>\n",
       "      <td>21.007</td>\n",
       "      <td>32.007</td>\n",
       "      <td>0.00281</td>\n",
       "      <td>0.000020</td>\n",
       "      <td>0.00128</td>\n",
       "      <td>0.00151</td>\n",
       "      <td>...</td>\n",
       "      <td>0.131</td>\n",
       "      <td>0.00693</td>\n",
       "      <td>0.00870</td>\n",
       "      <td>0.01307</td>\n",
       "      <td>0.02078</td>\n",
       "      <td>0.007984</td>\n",
       "      <td>24.422</td>\n",
       "      <td>0.56865</td>\n",
       "      <td>0.56327</td>\n",
       "      <td>0.14204</td>\n",
       "    </tr>\n",
       "    <tr>\n",
       "      <th>5874</th>\n",
       "      <td>42</td>\n",
       "      <td>61</td>\n",
       "      <td>0</td>\n",
       "      <td>170.73</td>\n",
       "      <td>20.513</td>\n",
       "      <td>31.513</td>\n",
       "      <td>0.00282</td>\n",
       "      <td>0.000021</td>\n",
       "      <td>0.00135</td>\n",
       "      <td>0.00166</td>\n",
       "      <td>...</td>\n",
       "      <td>0.171</td>\n",
       "      <td>0.00946</td>\n",
       "      <td>0.01154</td>\n",
       "      <td>0.01470</td>\n",
       "      <td>0.02839</td>\n",
       "      <td>0.008172</td>\n",
       "      <td>23.259</td>\n",
       "      <td>0.58608</td>\n",
       "      <td>0.57077</td>\n",
       "      <td>0.15336</td>\n",
       "    </tr>\n",
       "  </tbody>\n",
       "</table>\n",
       "<p>5 rows × 22 columns</p>\n",
       "</div>"
      ],
      "text/plain": [
       "      subject#  age  sex  test_time  motor_UPDRS  total_UPDRS  Jitter(%)  \\\n",
       "5870        42   61    0     142.79       22.485       33.485    0.00406   \n",
       "5871        42   61    0     149.84       21.988       32.988    0.00297   \n",
       "5872        42   61    0     156.82       21.495       32.495    0.00349   \n",
       "5873        42   61    0     163.73       21.007       32.007    0.00281   \n",
       "5874        42   61    0     170.73       20.513       31.513    0.00282   \n",
       "\n",
       "      Jitter(Abs)  Jitter:RAP  Jitter:PPQ5  ...  Shimmer(dB)  Shimmer:APQ3  \\\n",
       "5870     0.000031     0.00167      0.00168  ...        0.160       0.00973   \n",
       "5871     0.000025     0.00119      0.00147  ...        0.215       0.01052   \n",
       "5872     0.000025     0.00152      0.00187  ...        0.244       0.01371   \n",
       "5873     0.000020     0.00128      0.00151  ...        0.131       0.00693   \n",
       "5874     0.000021     0.00135      0.00166  ...        0.171       0.00946   \n",
       "\n",
       "      Shimmer:APQ5  Shimmer:APQ11  Shimmer:DDA       NHR     HNR     RPDE  \\\n",
       "5870       0.01133        0.01549      0.02920  0.025137  22.369  0.64215   \n",
       "5871       0.01277        0.01904      0.03157  0.011927  22.886  0.52598   \n",
       "5872       0.01456        0.01877      0.04112  0.017701  25.065  0.47792   \n",
       "5873       0.00870        0.01307      0.02078  0.007984  24.422  0.56865   \n",
       "5874       0.01154        0.01470      0.02839  0.008172  23.259  0.58608   \n",
       "\n",
       "          DFA      PPE  \n",
       "5870  0.55314  0.21367  \n",
       "5871  0.56518  0.12621  \n",
       "5872  0.57888  0.14157  \n",
       "5873  0.56327  0.14204  \n",
       "5874  0.57077  0.15336  \n",
       "\n",
       "[5 rows x 22 columns]"
      ]
     },
     "execution_count": 4,
     "metadata": {},
     "output_type": "execute_result"
    }
   ],
   "source": [
    "# print last five rows of the data\n",
    "dff.tail()"
   ]
  },
  {
   "cell_type": "markdown",
   "id": "02fba4cd",
   "metadata": {},
   "source": [
    "**Observations:** \"motor_UPDRS & total_UPDRS\" columns is our target feature."
   ]
  },
  {
   "cell_type": "markdown",
   "id": "c12fe317",
   "metadata": {},
   "source": [
    "# Data Exploration"
   ]
  },
  {
   "cell_type": "code",
   "execution_count": 5,
   "id": "2dd8a411",
   "metadata": {},
   "outputs": [
    {
     "name": "stdout",
     "output_type": "stream",
     "text": [
      "(5875, 22)\n"
     ]
    }
   ],
   "source": [
    "# check the number of rows and columns in our dataset\n",
    "print(dff.shape)"
   ]
  },
  {
   "cell_type": "code",
   "execution_count": 6,
   "id": "73262c97",
   "metadata": {},
   "outputs": [
    {
     "name": "stdout",
     "output_type": "stream",
     "text": [
      "<class 'pandas.core.frame.DataFrame'>\n",
      "RangeIndex: 5875 entries, 0 to 5874\n",
      "Data columns (total 22 columns):\n",
      " #   Column         Non-Null Count  Dtype  \n",
      "---  ------         --------------  -----  \n",
      " 0   subject#       5875 non-null   int64  \n",
      " 1   age            5875 non-null   int64  \n",
      " 2   sex            5875 non-null   int64  \n",
      " 3   test_time      5875 non-null   float64\n",
      " 4   motor_UPDRS    5875 non-null   float64\n",
      " 5   total_UPDRS    5875 non-null   float64\n",
      " 6   Jitter(%)      5875 non-null   float64\n",
      " 7   Jitter(Abs)    5875 non-null   float64\n",
      " 8   Jitter:RAP     5875 non-null   float64\n",
      " 9   Jitter:PPQ5    5875 non-null   float64\n",
      " 10  Jitter:DDP     5875 non-null   float64\n",
      " 11  Shimmer        5875 non-null   float64\n",
      " 12  Shimmer(dB)    5875 non-null   float64\n",
      " 13  Shimmer:APQ3   5875 non-null   float64\n",
      " 14  Shimmer:APQ5   5875 non-null   float64\n",
      " 15  Shimmer:APQ11  5875 non-null   float64\n",
      " 16  Shimmer:DDA    5875 non-null   float64\n",
      " 17  NHR            5875 non-null   float64\n",
      " 18  HNR            5875 non-null   float64\n",
      " 19  RPDE           5875 non-null   float64\n",
      " 20  DFA            5875 non-null   float64\n",
      " 21  PPE            5875 non-null   float64\n",
      "dtypes: float64(19), int64(3)\n",
      "memory usage: 1009.9 KB\n"
     ]
    }
   ],
   "source": [
    "# Getting more information of our dataset\n",
    "dff.info()"
   ]
  },
  {
   "cell_type": "markdown",
   "id": "0bc0d1fa",
   "metadata": {},
   "source": [
    "**Observations:** \"subject#\" column is an identifier to a record we can remove this field."
   ]
  },
  {
   "cell_type": "code",
   "execution_count": 7,
   "id": "bcff9d62",
   "metadata": {},
   "outputs": [
    {
     "data": {
      "text/plain": [
       "subject#         0\n",
       "age              0\n",
       "sex              0\n",
       "test_time        0\n",
       "motor_UPDRS      0\n",
       "total_UPDRS      0\n",
       "Jitter(%)        0\n",
       "Jitter(Abs)      0\n",
       "Jitter:RAP       0\n",
       "Jitter:PPQ5      0\n",
       "Jitter:DDP       0\n",
       "Shimmer          0\n",
       "Shimmer(dB)      0\n",
       "Shimmer:APQ3     0\n",
       "Shimmer:APQ5     0\n",
       "Shimmer:APQ11    0\n",
       "Shimmer:DDA      0\n",
       "NHR              0\n",
       "HNR              0\n",
       "RPDE             0\n",
       "DFA              0\n",
       "PPE              0\n",
       "dtype: int64"
      ]
     },
     "execution_count": 7,
     "metadata": {},
     "output_type": "execute_result"
    }
   ],
   "source": [
    "dff.isnull().sum()"
   ]
  },
  {
   "cell_type": "markdown",
   "id": "2352aaf3",
   "metadata": {},
   "source": [
    "**Observations:** There are no null values in our dataset"
   ]
  },
  {
   "cell_type": "code",
   "execution_count": 8,
   "id": "4d3ee175",
   "metadata": {},
   "outputs": [
    {
     "data": {
      "text/html": [
       "<div>\n",
       "<style scoped>\n",
       "    .dataframe tbody tr th:only-of-type {\n",
       "        vertical-align: middle;\n",
       "    }\n",
       "\n",
       "    .dataframe tbody tr th {\n",
       "        vertical-align: top;\n",
       "    }\n",
       "\n",
       "    .dataframe thead th {\n",
       "        text-align: right;\n",
       "    }\n",
       "</style>\n",
       "<table border=\"1\" class=\"dataframe\">\n",
       "  <thead>\n",
       "    <tr style=\"text-align: right;\">\n",
       "      <th></th>\n",
       "      <th>subject#</th>\n",
       "      <th>age</th>\n",
       "      <th>sex</th>\n",
       "      <th>test_time</th>\n",
       "      <th>motor_UPDRS</th>\n",
       "      <th>total_UPDRS</th>\n",
       "      <th>Jitter(%)</th>\n",
       "      <th>Jitter(Abs)</th>\n",
       "      <th>Jitter:RAP</th>\n",
       "      <th>Jitter:PPQ5</th>\n",
       "      <th>...</th>\n",
       "      <th>Shimmer(dB)</th>\n",
       "      <th>Shimmer:APQ3</th>\n",
       "      <th>Shimmer:APQ5</th>\n",
       "      <th>Shimmer:APQ11</th>\n",
       "      <th>Shimmer:DDA</th>\n",
       "      <th>NHR</th>\n",
       "      <th>HNR</th>\n",
       "      <th>RPDE</th>\n",
       "      <th>DFA</th>\n",
       "      <th>PPE</th>\n",
       "    </tr>\n",
       "  </thead>\n",
       "  <tbody>\n",
       "    <tr>\n",
       "      <th>count</th>\n",
       "      <td>5875.000000</td>\n",
       "      <td>5875.000000</td>\n",
       "      <td>5875.000000</td>\n",
       "      <td>5875.000000</td>\n",
       "      <td>5875.000000</td>\n",
       "      <td>5875.000000</td>\n",
       "      <td>5875.000000</td>\n",
       "      <td>5875.000000</td>\n",
       "      <td>5875.000000</td>\n",
       "      <td>5875.000000</td>\n",
       "      <td>...</td>\n",
       "      <td>5875.000000</td>\n",
       "      <td>5875.000000</td>\n",
       "      <td>5875.000000</td>\n",
       "      <td>5875.000000</td>\n",
       "      <td>5875.000000</td>\n",
       "      <td>5875.000000</td>\n",
       "      <td>5875.000000</td>\n",
       "      <td>5875.000000</td>\n",
       "      <td>5875.000000</td>\n",
       "      <td>5875.000000</td>\n",
       "    </tr>\n",
       "    <tr>\n",
       "      <th>mean</th>\n",
       "      <td>21.494128</td>\n",
       "      <td>64.804936</td>\n",
       "      <td>0.317787</td>\n",
       "      <td>92.863722</td>\n",
       "      <td>21.296229</td>\n",
       "      <td>29.018942</td>\n",
       "      <td>0.006154</td>\n",
       "      <td>0.000044</td>\n",
       "      <td>0.002987</td>\n",
       "      <td>0.003277</td>\n",
       "      <td>...</td>\n",
       "      <td>0.310960</td>\n",
       "      <td>0.017156</td>\n",
       "      <td>0.020144</td>\n",
       "      <td>0.027481</td>\n",
       "      <td>0.051467</td>\n",
       "      <td>0.032120</td>\n",
       "      <td>21.679495</td>\n",
       "      <td>0.541473</td>\n",
       "      <td>0.653240</td>\n",
       "      <td>0.219589</td>\n",
       "    </tr>\n",
       "    <tr>\n",
       "      <th>std</th>\n",
       "      <td>12.372279</td>\n",
       "      <td>8.821524</td>\n",
       "      <td>0.465656</td>\n",
       "      <td>53.445602</td>\n",
       "      <td>8.129282</td>\n",
       "      <td>10.700283</td>\n",
       "      <td>0.005624</td>\n",
       "      <td>0.000036</td>\n",
       "      <td>0.003124</td>\n",
       "      <td>0.003732</td>\n",
       "      <td>...</td>\n",
       "      <td>0.230254</td>\n",
       "      <td>0.013237</td>\n",
       "      <td>0.016664</td>\n",
       "      <td>0.019986</td>\n",
       "      <td>0.039711</td>\n",
       "      <td>0.059692</td>\n",
       "      <td>4.291096</td>\n",
       "      <td>0.100986</td>\n",
       "      <td>0.070902</td>\n",
       "      <td>0.091498</td>\n",
       "    </tr>\n",
       "    <tr>\n",
       "      <th>min</th>\n",
       "      <td>1.000000</td>\n",
       "      <td>36.000000</td>\n",
       "      <td>0.000000</td>\n",
       "      <td>-4.262500</td>\n",
       "      <td>5.037700</td>\n",
       "      <td>7.000000</td>\n",
       "      <td>0.000830</td>\n",
       "      <td>0.000002</td>\n",
       "      <td>0.000330</td>\n",
       "      <td>0.000430</td>\n",
       "      <td>...</td>\n",
       "      <td>0.026000</td>\n",
       "      <td>0.001610</td>\n",
       "      <td>0.001940</td>\n",
       "      <td>0.002490</td>\n",
       "      <td>0.004840</td>\n",
       "      <td>0.000286</td>\n",
       "      <td>1.659000</td>\n",
       "      <td>0.151020</td>\n",
       "      <td>0.514040</td>\n",
       "      <td>0.021983</td>\n",
       "    </tr>\n",
       "    <tr>\n",
       "      <th>25%</th>\n",
       "      <td>10.000000</td>\n",
       "      <td>58.000000</td>\n",
       "      <td>0.000000</td>\n",
       "      <td>46.847500</td>\n",
       "      <td>15.000000</td>\n",
       "      <td>21.371000</td>\n",
       "      <td>0.003580</td>\n",
       "      <td>0.000022</td>\n",
       "      <td>0.001580</td>\n",
       "      <td>0.001820</td>\n",
       "      <td>...</td>\n",
       "      <td>0.175000</td>\n",
       "      <td>0.009280</td>\n",
       "      <td>0.010790</td>\n",
       "      <td>0.015665</td>\n",
       "      <td>0.027830</td>\n",
       "      <td>0.010955</td>\n",
       "      <td>19.406000</td>\n",
       "      <td>0.469785</td>\n",
       "      <td>0.596180</td>\n",
       "      <td>0.156340</td>\n",
       "    </tr>\n",
       "    <tr>\n",
       "      <th>50%</th>\n",
       "      <td>22.000000</td>\n",
       "      <td>65.000000</td>\n",
       "      <td>0.000000</td>\n",
       "      <td>91.523000</td>\n",
       "      <td>20.871000</td>\n",
       "      <td>27.576000</td>\n",
       "      <td>0.004900</td>\n",
       "      <td>0.000034</td>\n",
       "      <td>0.002250</td>\n",
       "      <td>0.002490</td>\n",
       "      <td>...</td>\n",
       "      <td>0.253000</td>\n",
       "      <td>0.013700</td>\n",
       "      <td>0.015940</td>\n",
       "      <td>0.022710</td>\n",
       "      <td>0.041110</td>\n",
       "      <td>0.018448</td>\n",
       "      <td>21.920000</td>\n",
       "      <td>0.542250</td>\n",
       "      <td>0.643600</td>\n",
       "      <td>0.205500</td>\n",
       "    </tr>\n",
       "    <tr>\n",
       "      <th>75%</th>\n",
       "      <td>33.000000</td>\n",
       "      <td>72.000000</td>\n",
       "      <td>1.000000</td>\n",
       "      <td>138.445000</td>\n",
       "      <td>27.596500</td>\n",
       "      <td>36.399000</td>\n",
       "      <td>0.006800</td>\n",
       "      <td>0.000053</td>\n",
       "      <td>0.003290</td>\n",
       "      <td>0.003460</td>\n",
       "      <td>...</td>\n",
       "      <td>0.365000</td>\n",
       "      <td>0.020575</td>\n",
       "      <td>0.023755</td>\n",
       "      <td>0.032715</td>\n",
       "      <td>0.061735</td>\n",
       "      <td>0.031463</td>\n",
       "      <td>24.444000</td>\n",
       "      <td>0.614045</td>\n",
       "      <td>0.711335</td>\n",
       "      <td>0.264490</td>\n",
       "    </tr>\n",
       "    <tr>\n",
       "      <th>max</th>\n",
       "      <td>42.000000</td>\n",
       "      <td>85.000000</td>\n",
       "      <td>1.000000</td>\n",
       "      <td>215.490000</td>\n",
       "      <td>39.511000</td>\n",
       "      <td>54.992000</td>\n",
       "      <td>0.099990</td>\n",
       "      <td>0.000446</td>\n",
       "      <td>0.057540</td>\n",
       "      <td>0.069560</td>\n",
       "      <td>...</td>\n",
       "      <td>2.107000</td>\n",
       "      <td>0.162670</td>\n",
       "      <td>0.167020</td>\n",
       "      <td>0.275460</td>\n",
       "      <td>0.488020</td>\n",
       "      <td>0.748260</td>\n",
       "      <td>37.875000</td>\n",
       "      <td>0.966080</td>\n",
       "      <td>0.865600</td>\n",
       "      <td>0.731730</td>\n",
       "    </tr>\n",
       "  </tbody>\n",
       "</table>\n",
       "<p>8 rows × 22 columns</p>\n",
       "</div>"
      ],
      "text/plain": [
       "          subject#          age          sex    test_time  motor_UPDRS  \\\n",
       "count  5875.000000  5875.000000  5875.000000  5875.000000  5875.000000   \n",
       "mean     21.494128    64.804936     0.317787    92.863722    21.296229   \n",
       "std      12.372279     8.821524     0.465656    53.445602     8.129282   \n",
       "min       1.000000    36.000000     0.000000    -4.262500     5.037700   \n",
       "25%      10.000000    58.000000     0.000000    46.847500    15.000000   \n",
       "50%      22.000000    65.000000     0.000000    91.523000    20.871000   \n",
       "75%      33.000000    72.000000     1.000000   138.445000    27.596500   \n",
       "max      42.000000    85.000000     1.000000   215.490000    39.511000   \n",
       "\n",
       "       total_UPDRS    Jitter(%)  Jitter(Abs)   Jitter:RAP  Jitter:PPQ5  ...  \\\n",
       "count  5875.000000  5875.000000  5875.000000  5875.000000  5875.000000  ...   \n",
       "mean     29.018942     0.006154     0.000044     0.002987     0.003277  ...   \n",
       "std      10.700283     0.005624     0.000036     0.003124     0.003732  ...   \n",
       "min       7.000000     0.000830     0.000002     0.000330     0.000430  ...   \n",
       "25%      21.371000     0.003580     0.000022     0.001580     0.001820  ...   \n",
       "50%      27.576000     0.004900     0.000034     0.002250     0.002490  ...   \n",
       "75%      36.399000     0.006800     0.000053     0.003290     0.003460  ...   \n",
       "max      54.992000     0.099990     0.000446     0.057540     0.069560  ...   \n",
       "\n",
       "       Shimmer(dB)  Shimmer:APQ3  Shimmer:APQ5  Shimmer:APQ11  Shimmer:DDA  \\\n",
       "count  5875.000000   5875.000000   5875.000000    5875.000000  5875.000000   \n",
       "mean      0.310960      0.017156      0.020144       0.027481     0.051467   \n",
       "std       0.230254      0.013237      0.016664       0.019986     0.039711   \n",
       "min       0.026000      0.001610      0.001940       0.002490     0.004840   \n",
       "25%       0.175000      0.009280      0.010790       0.015665     0.027830   \n",
       "50%       0.253000      0.013700      0.015940       0.022710     0.041110   \n",
       "75%       0.365000      0.020575      0.023755       0.032715     0.061735   \n",
       "max       2.107000      0.162670      0.167020       0.275460     0.488020   \n",
       "\n",
       "               NHR          HNR         RPDE          DFA          PPE  \n",
       "count  5875.000000  5875.000000  5875.000000  5875.000000  5875.000000  \n",
       "mean      0.032120    21.679495     0.541473     0.653240     0.219589  \n",
       "std       0.059692     4.291096     0.100986     0.070902     0.091498  \n",
       "min       0.000286     1.659000     0.151020     0.514040     0.021983  \n",
       "25%       0.010955    19.406000     0.469785     0.596180     0.156340  \n",
       "50%       0.018448    21.920000     0.542250     0.643600     0.205500  \n",
       "75%       0.031463    24.444000     0.614045     0.711335     0.264490  \n",
       "max       0.748260    37.875000     0.966080     0.865600     0.731730  \n",
       "\n",
       "[8 rows x 22 columns]"
      ]
     },
     "execution_count": 8,
     "metadata": {},
     "output_type": "execute_result"
    }
   ],
   "source": [
    "# Getting some statistical information of our data\n",
    "dff.describe()"
   ]
  },
  {
   "cell_type": "markdown",
   "id": "0f5dc718",
   "metadata": {},
   "source": [
    "# Data Preprocessing"
   ]
  },
  {
   "cell_type": "code",
   "execution_count": 9,
   "id": "7812a5cc",
   "metadata": {},
   "outputs": [],
   "source": [
    "dff = dff.drop(['subject#'], axis=1)"
   ]
  },
  {
   "cell_type": "code",
   "execution_count": 10,
   "id": "0f892583",
   "metadata": {},
   "outputs": [
    {
     "name": "stdout",
     "output_type": "stream",
     "text": [
      "(5875, 19) (5875, 2)\n"
     ]
    }
   ],
   "source": [
    "array = dff.values\n",
    "X = np.hstack((array[:,0:4],array[:,6:]))\n",
    "Y = array[:,4:6]\n",
    "print(X.shape,Y.shape)"
   ]
  },
  {
   "cell_type": "markdown",
   "id": "6093f2f1",
   "metadata": {},
   "source": [
    "# Splitting data into train and test data"
   ]
  },
  {
   "cell_type": "code",
   "execution_count": 11,
   "id": "91bd0731",
   "metadata": {},
   "outputs": [
    {
     "name": "stdout",
     "output_type": "stream",
     "text": [
      "Train (4112, 19) (4112, 2)\n",
      "Test (1763, 19) (1763, 2)\n"
     ]
    }
   ],
   "source": [
    "# to load the dataset\n",
    "# summarizing the dataset\n",
    "from sklearn.model_selection import train_test_split\n",
    "\n",
    "# split the data into train sets\n",
    "# split the data into the train sets\n",
    "X_train, X_test, y_train, y_test = train_test_split(X, Y, test_size=0.3, random_state=1)\n",
    "\n",
    "print('Train', X_train.shape, y_train.shape)\n",
    "print('Test', X_test.shape, y_test.shape)"
   ]
  },
  {
   "cell_type": "code",
   "execution_count": 12,
   "id": "13ddbb31",
   "metadata": {},
   "outputs": [
    {
     "name": "stdout",
     "output_type": "stream",
     "text": [
      "Feature 0: 420.401660\n",
      "Feature 1: 44.660826\n",
      "Feature 2: 20.860318\n",
      "Feature 3: 35435.818389\n",
      "Feature 4: 19.072095\n",
      "Feature 5: 16.588842\n",
      "Feature 6: 15.512242\n",
      "Feature 7: 16.602723\n",
      "Feature 8: 37.284312\n",
      "Feature 9: 40.993112\n",
      "Feature 10: 29.392137\n",
      "Feature 11: 30.425985\n",
      "Feature 12: 62.226065\n",
      "Feature 13: 29.391676\n",
      "Feature 14: 16.294904\n",
      "Feature 15: 113.889818\n",
      "Feature 16: 100.870182\n",
      "Feature 17: 59.913895\n",
      "Feature 18: 101.257652\n"
     ]
    }
   ],
   "source": [
    "from sklearn.datasets import make_regression\n",
    "from sklearn.feature_selection import SelectKBest\n",
    "from sklearn.feature_selection import f_regression\n",
    " \n",
    "# feature selection\n",
    "def select_features(X_train, y_train, X_test):\n",
    "    features_selected = SelectKBest(score_func=f_regression, k='all')\n",
    "    features_selected.fit(X_train, y_train)\n",
    "    X_train_fs = features_selected.transform(X_train)\n",
    "    X_test_fs = features_selected.transform(X_test)\n",
    "    return X_train_fs, X_test_fs, features_selected\n",
    "\n",
    "#we want to predict two random variables y,this means we should look at the correlations with each of them. \n",
    "#So initially we can calculte f-scores of the first UPDRS motor variable\n",
    "\n",
    "\n",
    "X_train_fs, X_test_fs, fs = select_features(X_train, y_train[:,0], X_test)\n",
    "for i in range(len(fs.scores_)):\n",
    "    print('Feature %d: %f' % (i, fs.scores_[i]))"
   ]
  },
  {
   "cell_type": "code",
   "execution_count": 13,
   "id": "5a1f1d02",
   "metadata": {},
   "outputs": [
    {
     "name": "stdout",
     "output_type": "stream",
     "text": [
      "Feature 0: 4.075685\n",
      "Feature 1: 10.070326\n",
      "Feature 2: 2.693167\n",
      "Feature 3: 27.646906\n",
      "Feature 4: 12198.145713\n",
      "Feature 5: 133600.484478\n",
      "Feature 6: 63664.075919\n",
      "Feature 7: 133637.371324\n",
      "Feature 8: 4138.160439\n",
      "Feature 9: 4299.885815\n",
      "Feature 10: 3265.461787\n",
      "Feature 11: 3763.768229\n",
      "Feature 12: 2592.129091\n",
      "Feature 13: 3265.466827\n",
      "Feature 14: 8769.433584\n",
      "Feature 15: 3384.560664\n",
      "Feature 16: 891.928809\n",
      "Feature 17: 209.350293\n",
      "Feature 18: 4386.763176\n"
     ]
    }
   ],
   "source": [
    "# second selection for the random variable total UPDRS.\n",
    "\n",
    "X_train_fs, X_test_fs, fs = select_features(X_train, y_train[:,1], X_test)\n",
    "for i in range(len(fs.scores_)):\n",
    "    print('Feature %d: %f' % (i, fs.scores_[i]))"
   ]
  },
  {
   "cell_type": "markdown",
   "id": "71987905",
   "metadata": {},
   "source": [
    "subsequently mutual information can be used similarly to the f-score, we can conclude that the features with the largest mutual information are the best features for k. Mutual data is calculated between two variables and measures the reduction of uncertainty for one random variable, given the value of another random variable."
   ]
  },
  {
   "cell_type": "code",
   "execution_count": 14,
   "id": "59d6e6c3",
   "metadata": {},
   "outputs": [
    {
     "name": "stdout",
     "output_type": "stream",
     "text": [
      "Feature 0: 2.651258\n",
      "Feature 1: 0.522787\n",
      "Feature 2: 5.568502\n",
      "Feature 3: 5.669833\n",
      "Feature 4: 0.107146\n",
      "Feature 5: 0.070122\n",
      "Feature 6: 0.101212\n",
      "Feature 7: 0.072345\n",
      "Feature 8: 0.088869\n",
      "Feature 9: 0.078550\n",
      "Feature 10: 0.089753\n",
      "Feature 11: 0.093994\n",
      "Feature 12: 0.111116\n",
      "Feature 13: 0.089371\n",
      "Feature 14: 0.076881\n",
      "Feature 15: 0.110864\n",
      "Feature 16: 0.063474\n",
      "Feature 17: 0.191771\n",
      "Feature 18: 0.071150\n"
     ]
    }
   ],
   "source": [
    "# example for numerical input data\n",
    "from sklearn.feature_selection import mutual_info_regression\n",
    "from matplotlib import pyplot\n",
    "\n",
    "\n",
    "def select_features(X_train, y_train, X_test):\n",
    "    features_selected = SelectKBest(score_func=mutual_info_regression, k='all')\n",
    "    features_selected.fit(X_train, y_train)\n",
    "    X_train_fs = features_selected.transform(X_train)\n",
    "    X_test_fs = features_selected.transform(X_test)\n",
    "    return X_train_fs, X_test_fs, features_selected\n",
    " \n",
    "\n",
    "X_train_fs, X_test_fs, fs = select_features(X_train, y_train[:,0], X_test)\n",
    "\n",
    "for i in range(len(fs.scores_)):\n",
    "    print('Feature %d: %f' % (i, fs.scores_[i]))"
   ]
  },
  {
   "cell_type": "code",
   "execution_count": 15,
   "id": "d8106be6",
   "metadata": {},
   "outputs": [
    {
     "name": "stdout",
     "output_type": "stream",
     "text": [
      "Feature 0: 0.158440\n",
      "Feature 1: 0.014938\n",
      "Feature 2: 0.029767\n",
      "Feature 3: 0.092836\n",
      "Feature 4: 1.069283\n",
      "Feature 5: 1.422113\n",
      "Feature 6: 1.479619\n",
      "Feature 7: 1.424216\n",
      "Feature 8: 0.341047\n",
      "Feature 9: 0.369985\n",
      "Feature 10: 0.300545\n",
      "Feature 11: 0.328922\n",
      "Feature 12: 0.339293\n",
      "Feature 13: 0.301098\n",
      "Feature 14: 0.620162\n",
      "Feature 15: 0.513354\n",
      "Feature 16: 0.223349\n",
      "Feature 17: 0.137175\n",
      "Feature 18: 0.699928\n"
     ]
    }
   ],
   "source": [
    "# feature selection\n",
    "X_train_fs, X_test_fs, fs = select_features(X_train, y_train[:,1], X_test)\n",
    "for i in range(len(fs.scores_)):\n",
    "    print('Feature %d: %f' % (i, fs.scores_[i]))"
   ]
  },
  {
   "cell_type": "code",
   "execution_count": 16,
   "id": "b9e52027",
   "metadata": {},
   "outputs": [
    {
     "data": {
      "text/plain": [
       "array([5.5000e+01, 0.0000e+00, 1.1250e+02, 2.1372e+01, 3.9700e-05,\n",
       "       3.1200e-03, 2.5000e-03, 9.3600e-03, 3.8560e-02, 3.4300e-01,\n",
       "       2.1350e-02, 2.2370e-02, 2.8020e-02, 6.4040e-02, 3.0023e-02,\n",
       "       2.1064e+01, 4.7444e-01, 5.5755e-01, 1.9252e-01])"
      ]
     },
     "execution_count": 16,
     "metadata": {},
     "output_type": "execute_result"
    }
   ],
   "source": [
    "X_train[1]"
   ]
  },
  {
   "cell_type": "markdown",
   "id": "ff2c1c50",
   "metadata": {},
   "source": [
    "# Data Visualization"
   ]
  },
  {
   "cell_type": "code",
   "execution_count": 17,
   "id": "5ff05cca",
   "metadata": {},
   "outputs": [
    {
     "data": {
      "image/png": "[encoded data removed]",
      "text/plain": [
       "<Figure size 2000x1200 with 20 Axes>"
      ]
     },
     "metadata": {},
     "output_type": "display_data"
    }
   ],
   "source": [
    "pd.DataFrame(X_train).hist(figsize=(20,12))\n",
    "plt.show()"
   ]
  },
  {
   "cell_type": "markdown",
   "id": "1367e994",
   "metadata": {},
   "source": [
    "# Correlation Heatmap"
   ]
  },
  {
   "cell_type": "code",
   "execution_count": 18,
   "id": "77ebf559",
   "metadata": {},
   "outputs": [
    {
     "data": {
      "image/png": "[encoded data removed]",
      "text/plain": [
       "<Figure size 1200x1000 with 2 Axes>"
      ]
     },
     "metadata": {},
     "output_type": "display_data"
    }
   ],
   "source": [
    "import seaborn as sns\n",
    "import matplotlib.pyplot as plt \n",
    "#Using Pearson Correlation\n",
    "pyplot.figure(figsize=(12,10))\n",
    "correlation_heatmap = dff.corr()\n",
    "sns.heatmap(correlation_heatmap, annot=True, cmap=plt.cm.Reds,fmt='.0%')\n",
    "pyplot.show()"
   ]
  },
  {
   "cell_type": "code",
   "execution_count": 19,
   "id": "608c0c98",
   "metadata": {},
   "outputs": [
    {
     "data": {
      "text/plain": [
       "age              0.273665\n",
       "motor_UPDRS      1.000000\n",
       "total_UPDRS      0.947231\n",
       "Shimmer          0.102349\n",
       "Shimmer(dB)      0.110076\n",
       "Shimmer:APQ11    0.136560\n",
       "HNR              0.157029\n",
       "RPDE             0.128607\n",
       "DFA              0.116242\n",
       "PPE              0.162433\n",
       "Name: motor_UPDRS, dtype: float64"
      ]
     },
     "execution_count": 19,
     "metadata": {},
     "output_type": "execute_result"
    }
   ],
   "source": [
    "#Correlation\n",
    "#output variable\n",
    "cor_target = abs(correlation_heatmap['motor_UPDRS'])\n",
    "important_features = cor_target[cor_target>0.1]\n",
    "important_features"
   ]
  },
  {
   "cell_type": "code",
   "execution_count": 20,
   "id": "b1303c48",
   "metadata": {},
   "outputs": [
    {
     "data": {
      "text/plain": [
       "age              0.310290\n",
       "motor_UPDRS      0.947231\n",
       "total_UPDRS      1.000000\n",
       "Shimmer:APQ11    0.120838\n",
       "HNR              0.162117\n",
       "RPDE             0.156897\n",
       "DFA              0.113475\n",
       "PPE              0.156195\n",
       "Name: total_UPDRS, dtype: float64"
      ]
     },
     "execution_count": 20,
     "metadata": {},
     "output_type": "execute_result"
    }
   ],
   "source": [
    "cor_target = abs(correlation_heatmap['total_UPDRS'])\n",
    "important_features = cor_target[cor_target>0.1]\n",
    "important_features"
   ]
  },
  {
   "cell_type": "markdown",
   "id": "40e33bf5",
   "metadata": {},
   "source": [
    "Features having a p-value greater than 0.05 will be eliminated. We can start a loop and keep going through this until we get the greatest model we can."
   ]
  },
  {
   "cell_type": "code",
   "execution_count": 21,
   "id": "b5beefa3",
   "metadata": {},
   "outputs": [
    {
     "data": {
      "text/plain": [
       "array([1.33427462e-02, 9.60189236e-27, 4.50415013e-23, 2.53156244e-02,\n",
       "       0.00000000e+00, 3.06566154e-04, 7.01474437e-01, 9.12408845e-02,\n",
       "       6.99684812e-01, 5.96080528e-01, 5.07179786e-02, 5.47244062e-01,\n",
       "       3.77042969e-07, 2.62662408e-07, 5.47059245e-01, 1.16590903e-01,\n",
       "       6.48034398e-06, 3.21950710e-04, 5.77254793e-03, 1.11283488e-03])"
      ]
     },
     "execution_count": 21,
     "metadata": {},
     "output_type": "execute_result"
    }
   ],
   "source": [
    "import statsmodels.api as sm\n",
    "from sklearn.feature_selection import RFE\n",
    "from sklearn.linear_model import RidgeCV, LassoCV, Ridge, Lasso\n",
    "X_1 = sm.add_constant(X_train)\n",
    "# Fitting sm.OLS model\n",
    "ols_model = sm.OLS(y_train[:,0],X_1).fit()\n",
    "ols_model.pvalues"
   ]
  },
  {
   "cell_type": "code",
   "execution_count": 22,
   "id": "07d55988",
   "metadata": {},
   "outputs": [
    {
     "name": "stdout",
     "output_type": "stream",
     "text": [
      "[0, 1, 2, 3, 4, 6, 9, 11, 12, 15, 16, 17, 18]\n"
     ]
    }
   ],
   "source": [
    "cols = list(pd.DataFrame(X_train).columns)\n",
    "pmax = 1\n",
    "\n",
    "# Backward Elimination\n",
    "\n",
    "while (len(cols)>0):\n",
    "    p= []\n",
    "    X_train_cols = pd.DataFrame(X_train)[cols]\n",
    "    X_train_cols = sm.add_constant(X_train_cols)\n",
    "    ols_model = sm.OLS(pd.DataFrame(y_train[:,0]),X_train_cols).fit()\n",
    "    p = pd.Series(ols_model.pvalues.values[1:],index = cols)      \n",
    "    pmax = max(p)\n",
    "    feature_with_p_max = p.idxmax()\n",
    "    if(pmax>0.05):\n",
    "        cols.remove(feature_with_p_max)\n",
    "    else:\n",
    "        break\n",
    "selected_features_BE = cols\n",
    "print(selected_features_BE)"
   ]
  },
  {
   "cell_type": "markdown",
   "id": "039e8eff",
   "metadata": {},
   "source": [
    "Applying regularization with a cutoff for the index coefficient. Specifically, we will use Lasso regularization. If a feature is pointless to our model, a factor of 0 is applied to the lasso. As a result, every feature in our model with a coefficient of 0 is removed."
   ]
  },
  {
   "cell_type": "code",
   "execution_count": 23,
   "id": "5df23582",
   "metadata": {},
   "outputs": [
    {
     "name": "stdout",
     "output_type": "stream",
     "text": [
      "Best alpha using built-in LassoCV: 0.081302\n",
      "Best score using built-in LassoCV: 0.902880\n",
      "Lasso picked 5 variables and eliminated the other 14 variables\n"
     ]
    }
   ],
   "source": [
    "lasso_regularization = LassoCV()\n",
    "lasso_regularization.fit(X_train, y_train[:,0])\n",
    "print(\"Best alpha using built-in LassoCV: %f\" % lasso_regularization.alpha_)\n",
    "print(\"Best score using built-in LassoCV: %f\" %lasso_regularization.score(X_train,y_train[:,0]))\n",
    "coef = pd.Series(lasso_regularization.coef_, index = pd.DataFrame(X_train).columns)\n",
    "print(\"Lasso picked \" + str(sum(coef != 0)) + \" variables and eliminated the other \" +  str(sum(coef == 0)) + \" variables\")"
   ]
  },
  {
   "cell_type": "markdown",
   "id": "f15e6418",
   "metadata": {},
   "source": [
    "**Feature selection**\n",
    "After completing all of the earlier tasks, we can now select a subset of the most crucial features to work with. To do this, we will only retain the traits that we discovered during the prior backward elimination."
   ]
  },
  {
   "cell_type": "code",
   "execution_count": 24,
   "id": "874d9ec4",
   "metadata": {},
   "outputs": [],
   "source": [
    "X_train = pd.DataFrame(X_train)\n",
    "X_train = X_train[[0, 1, 2, 3, 4, 6, 9, 11, 12, 15, 16, 17, 18]]\n",
    "X_train = X_train.values\n",
    "\n",
    "X_test = pd.DataFrame(X_test)\n",
    "X_test = X_test[[0, 1, 2, 3, 4, 6, 9, 11, 12, 15, 16, 17, 18]]\n",
    "X_test = X_test.values"
   ]
  },
  {
   "cell_type": "code",
   "execution_count": 25,
   "id": "f7abfe9f",
   "metadata": {},
   "outputs": [
    {
     "data": {
      "image/png": "[encoded data removed]",
      "text/plain": [
       "<Figure size 1200x1000 with 2 Axes>"
      ]
     },
     "metadata": {},
     "output_type": "display_data"
    }
   ],
   "source": [
    "plt.figure(figsize=(12,10))\n",
    "# Use Pearson Correlation\n",
    "\n",
    "correlation_heatmap = pd.DataFrame(X_train).corr()\n",
    "sns.heatmap(correlation_heatmap, annot=True, cmap=plt.cm.Reds,fmt='.0%')\n",
    "plt.show()"
   ]
  },
  {
   "cell_type": "markdown",
   "id": "1febacc9",
   "metadata": {},
   "source": [
    "# Model training"
   ]
  },
  {
   "cell_type": "markdown",
   "id": "300ba487",
   "metadata": {},
   "source": [
    "In this part we will train some regressors so that they can learn from our data and make predictions. The first thing we do is load all the sklearn libraries that we will need later.In order to execute the grid search with cross validation later on, we additionally define a scaler and a PCA class. Additionally, we have developed the compute_metrics function, which computes the metrics R2 and MSE for the training and control sets and generates predictions for us given a classifier that we have fitted to some data."
   ]
  },
  {
   "cell_type": "code",
   "execution_count": 26,
   "id": "b0823167",
   "metadata": {},
   "outputs": [],
   "source": [
    "from sklearn.preprocessing import StandardScaler\n",
    "from sklearn.model_selection import GridSearchCV\n",
    "from sklearn.metrics import mean_squared_error, r2_score\n",
    "from sklearn.decomposition import PCA\n",
    "from sklearn.multioutput import MultiOutputRegressor\n",
    "from sklearn.tree import DecisionTreeRegressor\n",
    "from sklearn.neighbors import KNeighborsRegressor\n",
    "from sklearn.ensemble import RandomForestRegressor\n",
    "import time\n",
    "\n",
    "\n",
    "# initialize transformers without hyper-parameters\n",
    "scaler = StandardScaler()\n",
    "pca = PCA()\n",
    "\n",
    "n_components = [3, 5, 7, 8, 10, 12, 13]\n",
    "def compute_metrics(trained_model, x_train, y_train, x_test, y_test):\n",
    "    train_predict = trained_model.predict(x_train)\n",
    "    test_predict = trained_model.predict(x_test)\n",
    "    \n",
    "    # Accuracy calculation\n",
    "    train_accuracy = r2_score(y_train, train_predict)\n",
    "    test_accuracy = r2_score(y_test, test_predict)\n",
    "\n",
    "    # Calculate of Mean Square Error\n",
    "    train_MSE = mean_squared_error(y_train, train_predict)\n",
    "    test_MSE = mean_squared_error(y_test, test_predict)\n",
    "\n",
    "    print('Correctness in the training data set: {:.2%}'.format( train_accuracy))\n",
    "    print('Correctness in the testing data set: {:.2%}\\n'.format(test_accuracy))\n",
    "    print('Mean Square Error in training samples: {:.4f}'.format(train_MSE))\n",
    "    print('Mean Square Error in testing samples: {:.4f}'.format(test_MSE))\n",
    "    return train_predict, test_predict, train_accuracy, test_accuracy, train_MSE, test_MSE"
   ]
  },
  {
   "cell_type": "markdown",
   "id": "50732155",
   "metadata": {},
   "source": [
    "# RandomForestRegression"
   ]
  },
  {
   "cell_type": "markdown",
   "id": "388c3703",
   "metadata": {},
   "source": [
    "Random Forests are algorithms that are very similar to trees. They are actually combinations of several trees together and essentially have similar hyperparameters, which is why we work similarly to trees.\n",
    "Random Forest as with trees the performance is already very high without tuning, so after grid search we see very little increase in performance."
   ]
  },
  {
   "cell_type": "code",
   "execution_count": 27,
   "id": "2823566e",
   "metadata": {},
   "outputs": [
    {
     "name": "stdout",
     "output_type": "stream",
     "text": [
      "Correctness in the training data set: 99.74%\n",
      "Correctness in the testing data set: 98.64%\n",
      "\n",
      "Mean Square Error in training samples: 0.0145\n",
      "Mean Square Error in testing samples: 0.0976\n",
      "\n"
     ]
    }
   ],
   "source": [
    "random_forest_model = MultiOutputRegressor(RandomForestRegressor(random_state=0))\n",
    "random_forest_model.fit(X_train, y_train)\n",
    "compute_metrics(random_forest_model, X_train, y_train, X_test, y_test)\n",
    "print(\"\")"
   ]
  },
  {
   "cell_type": "markdown",
   "id": "e4fd5cf9",
   "metadata": {},
   "source": [
    "# K-Nearest Neighbor(Knn)"
   ]
  },
  {
   "cell_type": "markdown",
   "id": "6627566d",
   "metadata": {},
   "source": [
    "For kNN we tune two hyperparameters that have to do with the algorithm that measures distances, as well as the number of nearest neighbors we use to learn our data. Again PCA gets in the way the most, so we've removed it from now on. However, we see that the performance of the algorithm is greatly improved."
   ]
  },
  {
   "cell_type": "code",
   "execution_count": 28,
   "id": "82736faa",
   "metadata": {},
   "outputs": [
    {
     "name": "stdout",
     "output_type": "stream",
     "text": [
      "Correctness in the training data set: 89.71%\n",
      "Correctness in the testing data set: 79.10%\n",
      "\n",
      "Mean Square Error in training samples: 0.5586\n",
      "Mean Square Error in testing samples: 1.7661\n",
      "\n"
     ]
    }
   ],
   "source": [
    "Knn_Model = MultiOutputRegressor(KNeighborsRegressor(n_neighbors=3))\n",
    "Knn_Model.fit(X_train, y_train)\n",
    "compute_metrics(Knn_Model, X_train, y_train, X_test, y_test)\n",
    "print(\"\")"
   ]
  },
  {
   "cell_type": "markdown",
   "id": "f7ecdf83",
   "metadata": {},
   "source": [
    "# Comparsion of two models"
   ]
  },
  {
   "cell_type": "code",
   "execution_count": 29,
   "id": "9f112f0e",
   "metadata": {},
   "outputs": [
    {
     "data": {
      "text/html": [
       "<div>\n",
       "<style scoped>\n",
       "    .dataframe tbody tr th:only-of-type {\n",
       "        vertical-align: middle;\n",
       "    }\n",
       "\n",
       "    .dataframe tbody tr th {\n",
       "        vertical-align: top;\n",
       "    }\n",
       "\n",
       "    .dataframe thead th {\n",
       "        text-align: right;\n",
       "    }\n",
       "</style>\n",
       "<table border=\"1\" class=\"dataframe\">\n",
       "  <thead>\n",
       "    <tr style=\"text-align: right;\">\n",
       "      <th></th>\n",
       "      <th>Model name</th>\n",
       "      <th>Correctness</th>\n",
       "      <th>MSE</th>\n",
       "    </tr>\n",
       "  </thead>\n",
       "  <tbody>\n",
       "    <tr>\n",
       "      <th>0</th>\n",
       "      <td>Random Forest Regression</td>\n",
       "      <td>98.64%</td>\n",
       "      <td>0.0976</td>\n",
       "    </tr>\n",
       "    <tr>\n",
       "      <th>1</th>\n",
       "      <td>kNN</td>\n",
       "      <td>79.10%</td>\n",
       "      <td>1.7661</td>\n",
       "    </tr>\n",
       "  </tbody>\n",
       "</table>\n",
       "</div>"
      ],
      "text/plain": [
       "                 Model name Correctness     MSE\n",
       "0  Random Forest Regression      98.64%  0.0976\n",
       "1                       kNN      79.10%  1.7661"
      ]
     },
     "execution_count": 29,
     "metadata": {},
     "output_type": "execute_result"
    }
   ],
   "source": [
    "data = {\"Model name\": [\"Random Forest Regression\",\"kNN\"], \"Correctness\": [\"98.64%\",\"79.10%\"], \"MSE\": [\"0.0976\",\"1.7661\"]}\n",
    "Comparison = pd.DataFrame(data)\n",
    "Comparison"
   ]
  },
  {
   "cell_type": "markdown",
   "id": "0bda3602",
   "metadata": {},
   "source": [
    "# Prediction System - Knn"
   ]
  },
  {
   "cell_type": "code",
   "execution_count": 36,
   "id": "9995e4fe",
   "metadata": {},
   "outputs": [
    {
     "name": "stdout",
     "output_type": "stream",
     "text": [
      "7.5000e+01,0.0000e+00,1.1835e+02,2.9317e+01,7.7000e-05,4.6800e-03,  2.8800e-01, 2.0760e-02, 3.2460e-02, 1.9865e+01, 5.2916e-01, 7.8789e-01,  3.3203e-01\n",
      " The Person has HIGH chance of parkinson disease and its effect on his daily life is HIGH\n"
     ]
    }
   ],
   "source": [
    "hphi = [7.5000e+01,0.0000e+00,1.1835e+02,2.9317e+01,7.7000e-05,4.6800e-03,\n",
    " 2.8800e-01, 2.0760e-02, 3.2460e-02, 1.9865e+01, 5.2916e-01, 7.8789e-01,\n",
    " 3.3203e-01]\n",
    "#4241\n",
    "\n",
    "hpli = [5.6000e+01 ,1.0000e+00, 1.4773e+02, 3.6138e+01, 1.4000e-05, 1.4900e-03,\n",
    " 3.3100e-01, 2.4870e-02, 2.6650e-02, 2.3273e+01, 4.0970e-01 ,6.1873e-01,\n",
    " 9.2022e-02]\n",
    "#5007\n",
    "\n",
    "lphi= [5.5000e+01, 0.0000e+00, 1.5170e+02, 1.8000e+01, 1.0406e-04, 5.8500e-03,\n",
    " 3.7100e-01, 2.5180e-02, 3.1930e-02, 1.8797e+01, 6.0522e-01, 7.6093e-01,\n",
    " 4.6136e-01]\n",
    "#2625\n",
    "\n",
    "lpli = [7.4000e+01, 0.0000e+00, 2.3697e+01, 1.1803e+01, 2.5100e-05, 1.6600e-03,\n",
    " 3.2500e-01, 2.4270e-02, 3.1650e-02, 2.1204e+01, 6.8600e-01, 6.1909e-01,\n",
    " 1.3660e-01]\n",
    "#442\n",
    "\n",
    "\n",
    "# print(neigh.predict(array1))\n",
    "def predict_knn(array):\n",
    "    np_array = np.asarray(array)\n",
    "    array_reshape = np_array.reshape(1,-1)\n",
    "    knn_prediction = Knn_Model.predict(array_reshape)\n",
    "    return knn_prediction\n",
    "\n",
    "in_data= np.asarray(tuple(map(float,input().rstrip().split(','))))\n",
    "prediction = predict_knn(in_data)\n",
    "motor_avg = np.mean(y_test, axis=0)[0]\n",
    "total_avg = np.mean(y_test, axis=0)[1]\n",
    "motor_updrs = prediction[0][0]\n",
    "total_updrs = prediction[0][1]\n",
    "# [29.0183058 0.00612984118]\n",
    "if(motor_updrs > motor_avg ):\n",
    "    if(total_updrs > total_avg):\n",
    "        print(\" The Person has HIGH chance of parkinson disease and its effect on his daily life is HIGH\")\n",
    "    else:\n",
    "        print(\" The Person has HIGH chance of parkinson disease and its effect on his daily life is LOW\")\n",
    "else:\n",
    "    if(total_updrs > total_avg):\n",
    "        print(\" The Person has LOW chance of parkinson disease and its early effect on his daily life is HIGH\")\n",
    "    else:\n",
    "        print(\" The Person has LOW chance of parkinson disease and its early effect effect on his daily life is LOW\")\n"
   ]
  },
  {
   "cell_type": "markdown",
   "id": "4973457e",
   "metadata": {},
   "source": [
    "# Prediction System -RandomForestRegression"
   ]
  },
  {
   "cell_type": "code",
   "execution_count": 34,
   "id": "fe35f961",
   "metadata": {},
   "outputs": [
    {
     "name": "stdout",
     "output_type": "stream",
     "text": [
      "7.4000e+01, 0.0000e+00, 2.3697e+01, 1.1803e+01, 2.5100e-05, 1.6600e-03,  3.2500e-01, 2.4270e-02, 3.1650e-02, 2.1204e+01, 6.8600e-01, 6.1909e-01,  1.3660e-01\n",
      " The Person has LOW chance of parkinson disease and its effect on his daily life is LOW\n"
     ]
    }
   ],
   "source": [
    "hphi = [7.5000e+01,0.0000e+00,1.1835e+02,2.9317e+01,7.7000e-05,4.6800e-03,\n",
    " 2.8800e-01, 2.0760e-02, 3.2460e-02, 1.9865e+01, 5.2916e-01, 7.8789e-01,\n",
    " 3.3203e-01]\n",
    "#4241\n",
    "\n",
    "hpli = [5.6000e+01 ,1.0000e+00, 1.4773e+02, 3.6138e+01, 1.4000e-05, 1.4900e-03,\n",
    " 3.3100e-01, 2.4870e-02, 2.6650e-02, 2.3273e+01, 4.0970e-01 ,6.1873e-01,\n",
    " 9.2022e-02]\n",
    "#5007\n",
    "\n",
    "lphi= [5.5000e+01, 0.0000e+00, 1.5170e+02, 1.8000e+01, 1.0406e-04, 5.8500e-03,\n",
    " 3.7100e-01, 2.5180e-02, 3.1930e-02, 1.8797e+01, 6.0522e-01, 7.6093e-01,\n",
    " 4.6136e-01]\n",
    "#2625\n",
    "\n",
    "lpli = [7.4000e+01, 0.0000e+00, 2.3697e+01, 1.1803e+01, 2.5100e-05, 1.6600e-03,\n",
    " 3.2500e-01, 2.4270e-02, 3.1650e-02, 2.1204e+01, 6.8600e-01, 6.1909e-01,\n",
    " 1.3660e-01]\n",
    "#442\n",
    "\n",
    "\n",
    "# print(neigh.predict(array1))\n",
    "def predict_random_forest(array):\n",
    "    np_array = np.asarray(array)\n",
    "    array_reshape = np_array.reshape(1,-1)\n",
    "    random_forest_prediction = random_forest_model.predict(array_reshape)\n",
    "    return random_forest_prediction\n",
    "\n",
    "in_data= np.asarray(tuple(map(float,input().rstrip().split(','))))\n",
    "#prediction = predict_knn(in_data)\n",
    "prediction = predict_random_forest(in_data)\n",
    "motor_avg = np.mean(y_test, axis=0)[0]\n",
    "total_avg = np.mean(y_test, axis=0)[1]\n",
    "motor_updrs = prediction[0][0]\n",
    "total_updrs = prediction[0][1]\n",
    "if(motor_updrs > motor_avg ):\n",
    "    if(total_updrs > total_avg):\n",
    "        print(\" The Person has HIGH chance of parkinson disease and its effect on his daily life is HIGH\")\n",
    "    else:\n",
    "        print(\" The Person has HIGH chance of parkinson disease and its effect on his daily life is LOW\")\n",
    "else:\n",
    "    if(total_updrs > total_avg):\n",
    "        print(\" The Person has LOW chance of parkinson disease and its effect on his daily life is HIGH\")\n",
    "    else:\n",
    "        print(\" The Person has LOW chance of parkinson disease and its effect on his daily life is LOW\")\n"
   ]
  },
  {
   "cell_type": "code",
   "execution_count": null,
   "id": "082c2c5d",
   "metadata": {},
   "outputs": [],
   "source": [
    "\n"
   ]
  }
 ],
 "metadata": {
  "kernelspec": {
   "display_name": "Python 3 (ipykernel)",
   "language": "python",
   "name": "python3"
  },
  "language_info": {
   "codemirror_mode": {
    "name": "ipython",
    "version": 3
   },
   "file_extension": ".py",
   "mimetype": "text/x-python",
   "name": "python",
   "nbconvert_exporter": "python",
   "pygments_lexer": "ipython3",
   "version": "3.11.4"
  }
 },
 "nbformat": 4,
 "nbformat_minor": 5
}
